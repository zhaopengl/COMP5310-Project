{
 "cells": [
  {
   "cell_type": "code",
   "execution_count": 1,
   "metadata": {},
   "outputs": [
    {
     "name": "stdout",
     "output_type": "stream",
     "text": [
      "OrderedDict([('Date', '2015-12-27'),\n",
      "             ('AveragePrice', '1.33'),\n",
      "             ('Total Volume', '64236.62'),\n",
      "             ('4046', '1036.74'),\n",
      "             ('4225', '54454.85'),\n",
      "             ('4770', '48.16'),\n",
      "             ('Total Bags', '8696.87'),\n",
      "             ('Small Bags', '8603.62'),\n",
      "             ('Large Bags', '93.25'),\n",
      "             ('XLarge Bags', '0.0'),\n",
      "             ('type', 'conventional'),\n",
      "             ('year', '2015'),\n",
      "             ('region', 'Albany'),\n",
      "             ('month', '12')])\n"
     ]
    }
   ],
   "source": [
    "import csv\n",
    "import pprint\n",
    "data_avocados = list(csv.DictReader(open('avocado.csv'))) \n",
    "for a in data_avocados:\n",
    "    a.popitem(last=False)\n",
    "    d_lists=a['Date'].split('-')\n",
    "    a['month']=d_lists[1]\n",
    "pprint.pprint(data_avocados[0])"
   ]
  },
  {
   "cell_type": "code",
   "execution_count": 2,
   "metadata": {},
   "outputs": [
    {
     "data": {
      "text/plain": [
       "18249"
      ]
     },
     "execution_count": 2,
     "metadata": {},
     "output_type": "execute_result"
    }
   ],
   "source": [
    "len(data_avocados)"
   ]
  },
  {
   "cell_type": "code",
   "execution_count": 3,
   "metadata": {},
   "outputs": [],
   "source": [
    "import matplotlib.pyplot as plt\n",
    "import numpy as np\n",
    "DEFAULT_VALUE = np.nan\n",
    "\n",
    "def clean(data, column_key, convert_function, default_value):\n",
    "    special_values= {}\n",
    "    for row in data:\n",
    "        old_value = row[column_key]\n",
    "        new_value = default_value\n",
    "        try:\n",
    "            if old_value in special_values.keys():\n",
    "                new_value = special_values[old_value]\n",
    "            else:\n",
    "                new_value = convert_function(old_value)\n",
    "        except (ValueError, TypeError):\n",
    "            print('Replacing {} with {} in column {}'.format(row[column_key], new_value, column_key))\n",
    "        row[column_key] = new_value"
   ]
  },
  {
   "cell_type": "code",
   "execution_count": 4,
   "metadata": {},
   "outputs": [],
   "source": [
    "clean(data_avocados,'AveragePrice',float,DEFAULT_VALUE)\n",
    "clean(data_avocados,'Total Volume',float,DEFAULT_VALUE)\n",
    "clean(data_avocados,'4046',float,DEFAULT_VALUE)\n",
    "clean(data_avocados,'4225',float,DEFAULT_VALUE)\n",
    "clean(data_avocados,'4770',float,DEFAULT_VALUE)\n",
    "clean(data_avocados,'Total Bags',float,DEFAULT_VALUE)\n",
    "clean(data_avocados,'Small Bags',float,DEFAULT_VALUE)\n",
    "clean(data_avocados,'Large Bags',float,DEFAULT_VALUE)\n",
    "clean(data_avocados,'XLarge Bags',float,DEFAULT_VALUE)\n",
    "clean(data_avocados,'year',int,DEFAULT_VALUE)\n",
    "clean(data_avocados,'month',int,DEFAULT_VALUE)\n",
    "\n"
   ]
  },
  {
   "cell_type": "code",
   "execution_count": 10,
   "metadata": {},
   "outputs": [
    {
     "name": "stdout",
     "output_type": "stream",
     "text": [
      "[0..1] : 2796\n",
      "[1..2] : 14009\n",
      "[2..3] : 1224\n",
      "[3..4] : 0\n",
      "[4..5] : 0\n"
     ]
    },
    {
     "data": {
      "text/plain": [
       "18029"
      ]
     },
     "execution_count": 10,
     "metadata": {},
     "output_type": "execute_result"
    }
   ],
   "source": [
    "\n",
    "v = []\n",
    "dic={}\n",
    "for row in data_avocados:\n",
    "    v.append(row['AveragePrice'])\n",
    "IQR=np.percentile(v,75)-np.percentile(v,25)\n",
    "lower=np.percentile(v,25)-1.5*IQR\n",
    "upper=np.percentile(v,75)+1.5*IQR\n",
    "for a in data_avocados:\n",
    "    if a['AveragePrice']<lower or a['AveragePrice']>upper:\n",
    "        data_avocados.remove(a)\n",
    "v = []\n",
    "for row in data_avocados:\n",
    "    v.append(row['AveragePrice'])\n",
    "freqs, bins = np.histogram(v, bins=5,range=(0,5))\n",
    "for i, freq in enumerate(freqs):\n",
    "    bin_str = '[{}..{}]'.format(int(bins[i]), int(bins[i+1]))\n",
    "    dic[bin_str]=freq\n",
    "    print(bin_str, ':', freq)\n",
    "len(data_avocados)"
   ]
  },
  {
   "cell_type": "code",
   "execution_count": 11,
   "metadata": {},
   "outputs": [
    {
     "data": {
      "image/png": "[encoded data removed]",
      "text/plain": [
       "<Figure size 432x288 with 1 Axes>"
      ]
     },
     "metadata": {
      "needs_background": "light"
     },
     "output_type": "display_data"
    }
   ],
   "source": [
    "\n",
    "plt.hist(v,bins=20)\n",
    "plt.xlabel('Average Price')\n",
    "plt.ylabel('Number of Instances')\n",
    "plt.show()"
   ]
  },
  {
   "cell_type": "code",
   "execution_count": 12,
   "metadata": {},
   "outputs": [
    {
     "data": {
      "image/png": "[encoded data removed]",
      "text/plain": [
       "<Figure size 432x288 with 1 Axes>"
      ]
     },
     "metadata": {
      "needs_background": "light"
     },
     "output_type": "display_data"
    }
   ],
   "source": [
    "dic={}\n",
    "length={}\n",
    "avg={}\n",
    "for row in data_avocados:\n",
    "    if row['type'] in dic:\n",
    "        dic[row['type']]+=row['AveragePrice']\n",
    "        length[row['type']]+=1\n",
    "\n",
    "    else:\n",
    "        dic[row['type']]=row['AveragePrice']\n",
    "        length[row['type']]=1\n",
    "\n",
    "for key in dic.keys():\n",
    "    avg[key]=dic[key]/length[key]\n",
    "plt.bar(avg.keys(),avg.values())\n",
    "plt.title('Average Price of Different Types of Avocado')\n",
    "plt.ylabel('Average Price of Avocado')\n",
    "plt.show()"
   ]
  },
  {
   "cell_type": "code",
   "execution_count": 13,
   "metadata": {},
   "outputs": [
    {
     "data": {
      "image/png": "[encoded data removed]",
      "text/plain": [
       "<Figure size 432x288 with 1 Axes>"
      ]
     },
     "metadata": {
      "needs_background": "light"
     },
     "output_type": "display_data"
    }
   ],
   "source": [
    "dic={}\n",
    "length={}\n",
    "avg={}\n",
    "for row in data_avocados:\n",
    "    if row['year'] in dic:\n",
    "        dic[row['year']]+=row['AveragePrice']\n",
    "        length[row['year']]+=1\n",
    "\n",
    "    else:\n",
    "        dic[row['year']]=row['AveragePrice']\n",
    "        length[row['year']]=1\n",
    "for key in dic.keys():\n",
    "    avg[key]=dic[key]/length[key]\n",
    "plt.bar(avg.keys(),avg.values())\n",
    "plt.ylabel('Average Price of Avocado')\n",
    "plt.title('Average Price of Avocado In Different Years')\n",
    "plt.xticks([i for i in dic.keys()])\n",
    "plt.show()"
   ]
  },
  {
   "cell_type": "code",
   "execution_count": 14,
   "metadata": {},
   "outputs": [
    {
     "name": "stderr",
     "output_type": "stream",
     "text": [
      "[NbConvertApp] Converting notebook Assignment_stage1.ipynb to html\n",
      "[NbConvertApp] Writing 331011 bytes to Assignment_stage1.html\n"
     ]
    }
   ],
   "source": [
    "!jupyter nbconvert --to html Assignment_stage1.ipynb"
   ]
  }
 ],
 "metadata": {
  "kernelspec": {
   "display_name": "Python 3",
   "language": "python",
   "name": "python3"
  },
  "language_info": {
   "codemirror_mode": {
    "name": "ipython",
    "version": 3
   },
   "file_extension": ".py",
   "mimetype": "text/x-python",
   "name": "python",
   "nbconvert_exporter": "python",
   "pygments_lexer": "ipython3",
   "version": "3.7.3"
  }
 },
 "nbformat": 4,
 "nbformat_minor": 2
}
